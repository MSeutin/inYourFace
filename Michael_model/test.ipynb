{
 "cells": [
  {
   "cell_type": "code",
   "execution_count": null,
   "metadata": {},
   "outputs": [],
   "source": [
    "### SETUP ###\n",
    "import tensorflow as tf\n",
    "import matplotlib.pyplot as plt\n",
    "import numpy as np # linear algebra\n",
    "import tensorflow_datasets as tfds\n",
    "import cv2\n",
    "\n",
    "# Recreate the exact same model, including its weights and the optimizer\n",
    "new_model = tf.keras.models.load_model('../converging_models/MODELS/new_nomask_model.h5')\n",
    "\n",
    "# dirname to be removed and replace by video input variable 'img'\n",
    "dirname = '../Crop/Cropped_Dataset/unmasked/'\n",
    "img_height = 224\n",
    "img_width = 224\n",
    "\n",
    "# get images from dir\n",
    "train_ds = tf.keras.utils.image_dataset_from_directory(\n",
    "  dirname,\n",
    "  validation_split=0.20,\n",
    "  subset=\"training\",\n",
    "  seed=123,\n",
    "  image_size=(img_height, img_width))\n",
    "\n"
   ]
  },
  {
   "cell_type": "code",
   "execution_count": null,
   "metadata": {},
   "outputs": [],
   "source": [
    "class_names = train_ds.class_names\n",
    "img = None\n",
    "for images, labels in train_ds.take(1):\n",
    "  for i in range(2):\n",
    "    img = images[i].numpy().astype(\"uint8\")\n",
    "\n",
    "img2 = cv2.imread('../Crop/Cropped_Dataset/unmasked/Anudari/unmasked_anudari_100.jpg')\n",
    "img = img.astype(\"uint8\")\n",
    "\n",
    "    \n",
    "print(img)\n",
    "# preprocessing the input image for the neural network\n",
    "input_img = tf.expand_dims(img, 0)\n",
    "\n",
    "# actual prediction\n",
    "pred = new_model.predict(input_img)\n",
    "print(pred)\n",
    "\n",
    "# matching to the labels\n",
    "print(class_names[np.argmax(pred)])\n",
    "plt.imshow(img)"
   ]
  }
 ],
 "metadata": {
  "kernelspec": {
   "display_name": "Python 3.9.13 ('tflabs')",
   "language": "python",
   "name": "python3"
  },
  "language_info": {
   "codemirror_mode": {
    "name": "ipython",
    "version": 3
   },
   "file_extension": ".py",
   "mimetype": "text/x-python",
   "name": "python",
   "nbconvert_exporter": "python",
   "pygments_lexer": "ipython3",
   "version": "3.9.13 (main, Oct 13 2022, 21:23:06) [MSC v.1916 64 bit (AMD64)]"
  },
  "orig_nbformat": 4,
  "vscode": {
   "interpreter": {
    "hash": "dbd96daefc5ee54ba6257df18db85533615538f8325a5ea7aefbb8022f7048fc"
   }
  }
 },
 "nbformat": 4,
 "nbformat_minor": 2
}
