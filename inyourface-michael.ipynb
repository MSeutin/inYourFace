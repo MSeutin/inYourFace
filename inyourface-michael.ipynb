{
 "cells": [
  {
   "cell_type": "code",
   "execution_count": 1,
   "id": "9ce345d1",
   "metadata": {
    "_cell_guid": "b1076dfc-b9ad-4769-8c92-a6c4dae69d19",
    "_uuid": "8f2839f25d086af736a60e9eeb907d3b93b6e0e5",
    "execution": {
     "iopub.execute_input": "2022-11-16T01:20:30.194204Z",
     "iopub.status.busy": "2022-11-16T01:20:30.193761Z",
     "iopub.status.idle": "2022-11-16T01:20:38.462276Z",
     "shell.execute_reply": "2022-11-16T01:20:38.461077Z"
    },
    "papermill": {
     "duration": 8.274617,
     "end_time": "2022-11-16T01:20:38.464744",
     "exception": false,
     "start_time": "2022-11-16T01:20:30.190127",
     "status": "completed"
    },
    "tags": []
   },
   "outputs": [
    {
     "name": "stdout",
     "output_type": "stream",
     "text": [
      "Found 1800 files belonging to 17 classes.\n",
      "Using 1440 files for training.\n"
     ]
    },
    {
     "name": "stderr",
     "output_type": "stream",
     "text": [
      "2022-11-16 01:20:38.238762: I tensorflow/core/common_runtime/process_util.cc:146] Creating new thread pool with default inter op setting: 2. Tune using inter_op_parallelism_threads for best performance.\n"
     ]
    },
    {
     "name": "stdout",
     "output_type": "stream",
     "text": [
      "Found 1800 files belonging to 17 classes.\n",
      "Using 360 files for validation.\n"
     ]
    }
   ],
   "source": [
    "### SETUP ###\n",
    "import tensorflow as tf\n",
    "from tensorflow.keras import datasets, layers, models\n",
    "import matplotlib.pyplot as plt\n",
    "import numpy as np # linear algebra\n",
    "import pandas as pd # data processing, CSV file I/O (e.g. pd.read_csv)\n",
    "import os\n",
    "import PIL\n",
    "import PIL.Image\n",
    "import tensorflow_datasets as tfds\n",
    "\n",
    "\n",
    "dirname = '/kaggle/input/celebrity-face-image-dataset/Celebrity Faces Dataset/'\n",
    "\n",
    "class_count = 18\n",
    "ds_size = 18*100\n",
    "\n",
    "img_height = 180\n",
    "img_width = 180\n",
    "\n",
    "## Creating the Training Set (80%)\n",
    "## Reference: https://www.tensorflow.org/tutorials/images/classification\n",
    "train_ds = tf.keras.utils.image_dataset_from_directory(\n",
    "  dirname,\n",
    "  validation_split=0.20,\n",
    "  subset=\"training\",\n",
    "  seed=123,\n",
    "  image_size=(img_height, img_width))\n",
    "\n",
    "test_ds = tf.keras.utils.image_dataset_from_directory(\n",
    "  dirname,\n",
    "  validation_split=0.20,\n",
    "  subset=\"validation\",\n",
    "  seed=123,\n",
    "  image_size=(img_height, img_width))\n",
    "\n",
    "## Creating test and validation datasets (10%-10%)\n",
    "## Reference; https://stackoverflow.com/questions/48213766/split-a-dataset-created-by-tensorflow-dataset-api-in-to-train-and-test#:~:text=A%20robust%20way%20to%20split,by%20filtering%20by%20the%20bucket.\n",
    "val_size = int(0.1 * ds_size)\n",
    "test_size = int(0.1 * ds_size)\n",
    "\n",
    "validation_ds = test_ds.take(val_size)\n",
    "testing_ds = test_ds.skip(test_size)\n",
    "\n",
    "\n",
    "## Do data augmentation to training and validation set only\n",
    "## Reference: https://pyimagesearch.com/2021/06/28/data-augmentation-with-tf-data-and-tensorflow/\n",
    "\n"
   ]
  }
 ],
 "metadata": {
  "kernelspec": {
   "display_name": "Python 3",
   "language": "python",
   "name": "python3"
  },
  "language_info": {
   "codemirror_mode": {
    "name": "ipython",
    "version": 3
   },
   "file_extension": ".py",
   "mimetype": "text/x-python",
   "name": "python",
   "nbconvert_exporter": "python",
   "pygments_lexer": "ipython3",
   "version": "3.7.12"
  },
  "papermill": {
   "default_parameters": {},
   "duration": 19.005794,
   "end_time": "2022-11-16T01:20:41.701792",
   "environment_variables": {},
   "exception": null,
   "input_path": "__notebook__.ipynb",
   "output_path": "__notebook__.ipynb",
   "parameters": {},
   "start_time": "2022-11-16T01:20:22.695998",
   "version": "2.3.4"
  }
 },
 "nbformat": 4,
 "nbformat_minor": 5
}
