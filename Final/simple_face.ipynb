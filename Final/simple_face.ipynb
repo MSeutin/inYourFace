{
 "cells": [
  {
   "cell_type": "code",
   "execution_count": 2,
   "metadata": {},
   "outputs": [],
   "source": [
    "import cv2\n",
    "import numpy as np\n",
    "import tensorflow as tf\n",
    "from tensorflow.keras.preprocessing import image\n",
    "from tensorflow.keras.applications.vgg19 import preprocess_input"
   ]
  },
  {
   "cell_type": "code",
   "execution_count": 18,
   "metadata": {},
   "outputs": [
    {
     "data": {
      "text/plain": [
       "-1"
      ]
     },
     "execution_count": 18,
     "metadata": {},
     "output_type": "execute_result"
    }
   ],
   "source": [
    "##################\n",
    "### LOAD IMAGE ###\n",
    "##################\n",
    "\n",
    "image_path = '../NEW_DATASET/test/snl_cast.jpg'\n",
    "export_name = 'chris_masked_normal'\n",
    "write_bool = False\n",
    "\n",
    "network = cv2.dnn.readNetFromCaffe(\"../converging_models/MODELS/deploy.prototxt\", \"../converging_models/MODELS/res10_300x300_ssd_iter_140000_fp16.caffemodel\")\n",
    "\n",
    "############################\n",
    "### LABEL MULTIPLE FACES ###\n",
    "############################\n",
    "dnn_label = ''\n",
    "scale_factor = 1\n",
    "dnn_boxColor = (255,0,0)\n",
    "face_recognition_conf = 0.9\n",
    "\n",
    "dnn_image = cv2.imread(image_path)\n",
    "dnn_image = cv2.resize(dnn_image, (0,0), fx=scale_factor, fy=scale_factor)\n",
    "\n",
    "\n",
    "(height, width) = dnn_image.shape[:2]\n",
    "blob = cv2.dnn.blobFromImage(dnn_image, scalefactor=1.0, size=(width, height), mean=(104.0, 117.0, 123.0))\n",
    "network.setInput(blob)\n",
    "detections = network.forward()\n",
    "\n",
    "for i in range(0, detections.shape[2]):\n",
    "    confidence = detections[0, 0, i, 2]\n",
    "    if confidence > face_recognition_conf:\n",
    "        box = detections[0, 0, i, 3:7] * np.array([width, height, width, height])\n",
    "        left = int(box[0])\n",
    "        top = int(box[1])\n",
    "        right = int(box[2])\n",
    "        bottom = int(box[3])\n",
    "\n",
    "        cropped_image = dnn_image[top:bottom, left:right]\n",
    "\n",
    "        cv2.rectangle(dnn_image, (left, top), (right, bottom), dnn_boxColor, 2)\n",
    "\n",
    "if write_bool:\n",
    "    cv2.imwrite('../NEW_DATASET/test/export/' + export_name + '.jpg', dnn_image)\n",
    "\n",
    "cv2.imshow(\"DNN\", dnn_image)\n",
    "cv2.waitKey(1)"
   ]
  }
 ],
 "metadata": {
  "kernelspec": {
   "display_name": "tflabs",
   "language": "python",
   "name": "python3"
  },
  "language_info": {
   "codemirror_mode": {
    "name": "ipython",
    "version": 3
   },
   "file_extension": ".py",
   "mimetype": "text/x-python",
   "name": "python",
   "nbconvert_exporter": "python",
   "pygments_lexer": "ipython3",
   "version": "3.9.13"
  },
  "orig_nbformat": 4,
  "vscode": {
   "interpreter": {
    "hash": "dbd96daefc5ee54ba6257df18db85533615538f8325a5ea7aefbb8022f7048fc"
   }
  }
 },
 "nbformat": 4,
 "nbformat_minor": 2
}
