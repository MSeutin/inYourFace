{
 "cells": [
  {
   "cell_type": "code",
   "execution_count": 1,
   "id": "0768df79",
   "metadata": {
    "execution": {
     "iopub.execute_input": "2022-11-28T06:55:23.944735Z",
     "iopub.status.busy": "2022-11-28T06:55:23.939702Z",
     "iopub.status.idle": "2022-11-28T06:55:29.742657Z",
     "shell.execute_reply": "2022-11-28T06:55:29.741930Z",
     "shell.execute_reply.started": "2022-11-28T06:38:39.180916Z"
    },
    "papermill": {
     "duration": 5.897158,
     "end_time": "2022-11-28T06:55:29.742846",
     "exception": false,
     "start_time": "2022-11-28T06:55:23.845688",
     "status": "completed"
    },
    "tags": []
   },
   "outputs": [
    {
     "name": "stderr",
     "output_type": "stream",
     "text": [
      "2022-11-28 06:55:24.659413: I tensorflow/stream_executor/platform/default/dso_loader.cc:49] Successfully opened dynamic library libcudart.so.11.0\n"
     ]
    }
   ],
   "source": [
    "# tf & keras & VGG19 libs\n",
    "import tensorflow as tf\n",
    "from tensorflow.keras.applications.vgg19 import VGG19\n",
    "from tensorflow.keras.preprocessing.image import ImageDataGenerator\n",
    "from tensorflow.keras.layers import Dense, Flatten\n",
    "from tensorflow.keras import Sequential\n",
    "from tensorflow.keras.applications.vgg19 import preprocess_input"
   ]
  },
  {
   "cell_type": "code",
   "execution_count": 2,
   "id": "370ef468",
   "metadata": {
    "execution": {
     "iopub.execute_input": "2022-11-28T06:55:29.764388Z",
     "iopub.status.busy": "2022-11-28T06:55:29.763466Z",
     "iopub.status.idle": "2022-11-28T06:55:29.765566Z",
     "shell.execute_reply": "2022-11-28T06:55:29.766028Z",
     "shell.execute_reply.started": "2022-11-28T06:38:42.103897Z"
    },
    "papermill": {
     "duration": 0.014776,
     "end_time": "2022-11-28T06:55:29.766170",
     "exception": false,
     "start_time": "2022-11-28T06:55:29.751394",
     "status": "completed"
    },
    "tags": []
   },
   "outputs": [],
   "source": [
    "# Load train and test set\n",
    "train_dir = '../input/face-mask-12k-images-dataset/Face Mask Dataset/Train'\n",
    "test_dir = '../input/face-mask-12k-images-dataset/Face Mask Dataset/Test'\n",
    "val_dir = '../input/face-mask-12k-images-dataset/Face Mask Dataset/Validation'\n",
    "\n",
    "# Image size\n",
    "IMG_SIZE = (224, 224)"
   ]
  },
  {
   "cell_type": "code",
   "execution_count": 3,
   "id": "8fac6e94",
   "metadata": {
    "execution": {
     "iopub.execute_input": "2022-11-28T06:55:29.789228Z",
     "iopub.status.busy": "2022-11-28T06:55:29.788518Z",
     "iopub.status.idle": "2022-11-28T06:55:34.427612Z",
     "shell.execute_reply": "2022-11-28T06:55:34.428473Z",
     "shell.execute_reply.started": "2022-11-28T06:38:45.612926Z"
    },
    "papermill": {
     "duration": 4.654975,
     "end_time": "2022-11-28T06:55:34.428699",
     "exception": false,
     "start_time": "2022-11-28T06:55:29.773724",
     "status": "completed"
    },
    "tags": []
   },
   "outputs": [
    {
     "name": "stdout",
     "output_type": "stream",
     "text": [
      "Found 10000 images belonging to 2 classes.\n",
      "Found 992 images belonging to 2 classes.\n",
      "Found 800 images belonging to 2 classes.\n"
     ]
    }
   ],
   "source": [
    "# augmentation\n",
    "DataGen = ImageDataGenerator(rotation_range=45,\n",
    "                                       shear_range=0.2,\n",
    "                                       zoom_range=0.2,\n",
    "                                       horizontal_flip=True,\n",
    "                                       vertical_flip=True,\n",
    "                                       rescale=1/255.0)\n",
    "\n",
    "Train_data = DataGen.flow_from_directory(train_dir, target_size=(IMG_SIZE), \n",
    "                                         color_mode=\"rgb\",\n",
    "                                         batch_size=200, \n",
    "                                         shuffle=True,\n",
    "                                         class_mode=\"categorical\")\n",
    "\n",
    "Test_data = DataGen.flow_from_directory(test_dir, target_size=(IMG_SIZE), \n",
    "                                         color_mode=\"rgb\",\n",
    "                                         batch_size=64, \n",
    "                                         shuffle=True,\n",
    "                                         class_mode=\"categorical\")\n",
    "\n",
    "Validation_data = DataGen.flow_from_directory(val_dir, target_size=(IMG_SIZE), \n",
    "                                         color_mode=\"rgb\",\n",
    "                                         batch_size=64, \n",
    "                                         shuffle=True,\n",
    "                                         class_mode=\"categorical\")"
   ]
  },
  {
   "cell_type": "code",
   "execution_count": 4,
   "id": "cdfeb044",
   "metadata": {
    "execution": {
     "iopub.execute_input": "2022-11-28T06:55:34.453532Z",
     "iopub.status.busy": "2022-11-28T06:55:34.452864Z",
     "iopub.status.idle": "2022-11-28T06:55:38.628935Z",
     "shell.execute_reply": "2022-11-28T06:55:38.628417Z",
     "shell.execute_reply.started": "2022-11-28T06:38:54.806810Z"
    },
    "papermill": {
     "duration": 4.190808,
     "end_time": "2022-11-28T06:55:38.629082",
     "exception": false,
     "start_time": "2022-11-28T06:55:34.438274",
     "status": "completed"
    },
    "tags": []
   },
   "outputs": [
    {
     "name": "stderr",
     "output_type": "stream",
     "text": [
      "2022-11-28 06:55:34.468373: I tensorflow/compiler/jit/xla_cpu_device.cc:41] Not creating XLA devices, tf_xla_enable_xla_devices not set\n",
      "2022-11-28 06:55:34.473449: I tensorflow/stream_executor/platform/default/dso_loader.cc:49] Successfully opened dynamic library libcuda.so.1\n",
      "2022-11-28 06:55:34.586150: I tensorflow/stream_executor/cuda/cuda_gpu_executor.cc:941] successful NUMA node read from SysFS had negative value (-1), but there must be at least one NUMA node, so returning NUMA node zero\n",
      "2022-11-28 06:55:34.587088: I tensorflow/core/common_runtime/gpu/gpu_device.cc:1720] Found device 0 with properties: \n",
      "pciBusID: 0000:00:04.0 name: Tesla T4 computeCapability: 7.5\n",
      "coreClock: 1.59GHz coreCount: 40 deviceMemorySize: 14.75GiB deviceMemoryBandwidth: 298.08GiB/s\n",
      "2022-11-28 06:55:34.587298: I tensorflow/stream_executor/cuda/cuda_gpu_executor.cc:941] successful NUMA node read from SysFS had negative value (-1), but there must be at least one NUMA node, so returning NUMA node zero\n",
      "2022-11-28 06:55:34.588063: I tensorflow/core/common_runtime/gpu/gpu_device.cc:1720] Found device 1 with properties: \n",
      "pciBusID: 0000:00:05.0 name: Tesla T4 computeCapability: 7.5\n",
      "coreClock: 1.59GHz coreCount: 40 deviceMemorySize: 14.75GiB deviceMemoryBandwidth: 298.08GiB/s\n",
      "2022-11-28 06:55:34.588131: I tensorflow/stream_executor/platform/default/dso_loader.cc:49] Successfully opened dynamic library libcudart.so.11.0\n",
      "2022-11-28 06:55:34.631613: I tensorflow/stream_executor/platform/default/dso_loader.cc:49] Successfully opened dynamic library libcublas.so.11\n",
      "2022-11-28 06:55:34.631741: I tensorflow/stream_executor/platform/default/dso_loader.cc:49] Successfully opened dynamic library libcublasLt.so.11\n",
      "2022-11-28 06:55:34.660050: I tensorflow/stream_executor/platform/default/dso_loader.cc:49] Successfully opened dynamic library libcufft.so.10\n",
      "2022-11-28 06:55:34.671620: I tensorflow/stream_executor/platform/default/dso_loader.cc:49] Successfully opened dynamic library libcurand.so.10\n",
      "2022-11-28 06:55:34.707320: I tensorflow/stream_executor/platform/default/dso_loader.cc:49] Successfully opened dynamic library libcusolver.so.10\n",
      "2022-11-28 06:55:34.717646: I tensorflow/stream_executor/platform/default/dso_loader.cc:49] Successfully opened dynamic library libcusparse.so.11\n",
      "2022-11-28 06:55:34.721280: I tensorflow/stream_executor/platform/default/dso_loader.cc:49] Successfully opened dynamic library libcudnn.so.8\n",
      "2022-11-28 06:55:34.721477: I tensorflow/stream_executor/cuda/cuda_gpu_executor.cc:941] successful NUMA node read from SysFS had negative value (-1), but there must be at least one NUMA node, so returning NUMA node zero\n",
      "2022-11-28 06:55:34.722476: I tensorflow/stream_executor/cuda/cuda_gpu_executor.cc:941] successful NUMA node read from SysFS had negative value (-1), but there must be at least one NUMA node, so returning NUMA node zero\n",
      "2022-11-28 06:55:34.723390: I tensorflow/stream_executor/cuda/cuda_gpu_executor.cc:941] successful NUMA node read from SysFS had negative value (-1), but there must be at least one NUMA node, so returning NUMA node zero\n",
      "2022-11-28 06:55:34.725435: I tensorflow/stream_executor/cuda/cuda_gpu_executor.cc:941] successful NUMA node read from SysFS had negative value (-1), but there must be at least one NUMA node, so returning NUMA node zero\n",
      "2022-11-28 06:55:34.726191: I tensorflow/core/common_runtime/gpu/gpu_device.cc:1862] Adding visible gpu devices: 0, 1\n",
      "2022-11-28 06:55:34.728581: I tensorflow/core/platform/cpu_feature_guard.cc:142] This TensorFlow binary is optimized with oneAPI Deep Neural Network Library (oneDNN) to use the following CPU instructions in performance-critical operations:  AVX2 AVX512F FMA\n",
      "To enable them in other operations, rebuild TensorFlow with the appropriate compiler flags.\n",
      "2022-11-28 06:55:34.728827: I tensorflow/compiler/jit/xla_gpu_device.cc:99] Not creating XLA devices, tf_xla_enable_xla_devices not set\n",
      "2022-11-28 06:55:34.999462: I tensorflow/stream_executor/cuda/cuda_gpu_executor.cc:941] successful NUMA node read from SysFS had negative value (-1), but there must be at least one NUMA node, so returning NUMA node zero\n",
      "2022-11-28 06:55:35.000227: I tensorflow/core/common_runtime/gpu/gpu_device.cc:1720] Found device 0 with properties: \n",
      "pciBusID: 0000:00:04.0 name: Tesla T4 computeCapability: 7.5\n",
      "coreClock: 1.59GHz coreCount: 40 deviceMemorySize: 14.75GiB deviceMemoryBandwidth: 298.08GiB/s\n",
      "2022-11-28 06:55:35.000431: I tensorflow/stream_executor/cuda/cuda_gpu_executor.cc:941] successful NUMA node read from SysFS had negative value (-1), but there must be at least one NUMA node, so returning NUMA node zero\n",
      "2022-11-28 06:55:35.001157: I tensorflow/core/common_runtime/gpu/gpu_device.cc:1720] Found device 1 with properties: \n",
      "pciBusID: 0000:00:05.0 name: Tesla T4 computeCapability: 7.5\n",
      "coreClock: 1.59GHz coreCount: 40 deviceMemorySize: 14.75GiB deviceMemoryBandwidth: 298.08GiB/s\n",
      "2022-11-28 06:55:35.001227: I tensorflow/stream_executor/platform/default/dso_loader.cc:49] Successfully opened dynamic library libcudart.so.11.0\n",
      "2022-11-28 06:55:35.001273: I tensorflow/stream_executor/platform/default/dso_loader.cc:49] Successfully opened dynamic library libcublas.so.11\n",
      "2022-11-28 06:55:35.001293: I tensorflow/stream_executor/platform/default/dso_loader.cc:49] Successfully opened dynamic library libcublasLt.so.11\n",
      "2022-11-28 06:55:35.001312: I tensorflow/stream_executor/platform/default/dso_loader.cc:49] Successfully opened dynamic library libcufft.so.10\n",
      "2022-11-28 06:55:35.001331: I tensorflow/stream_executor/platform/default/dso_loader.cc:49] Successfully opened dynamic library libcurand.so.10\n",
      "2022-11-28 06:55:35.001349: I tensorflow/stream_executor/platform/default/dso_loader.cc:49] Successfully opened dynamic library libcusolver.so.10\n",
      "2022-11-28 06:55:35.001368: I tensorflow/stream_executor/platform/default/dso_loader.cc:49] Successfully opened dynamic library libcusparse.so.11\n",
      "2022-11-28 06:55:35.001394: I tensorflow/stream_executor/platform/default/dso_loader.cc:49] Successfully opened dynamic library libcudnn.so.8\n",
      "2022-11-28 06:55:35.001479: I tensorflow/stream_executor/cuda/cuda_gpu_executor.cc:941] successful NUMA node read from SysFS had negative value (-1), but there must be at least one NUMA node, so returning NUMA node zero\n",
      "2022-11-28 06:55:35.002259: I tensorflow/stream_executor/cuda/cuda_gpu_executor.cc:941] successful NUMA node read from SysFS had negative value (-1), but there must be at least one NUMA node, so returning NUMA node zero\n",
      "2022-11-28 06:55:35.003028: I tensorflow/stream_executor/cuda/cuda_gpu_executor.cc:941] successful NUMA node read from SysFS had negative value (-1), but there must be at least one NUMA node, so returning NUMA node zero\n",
      "2022-11-28 06:55:35.003948: I tensorflow/stream_executor/cuda/cuda_gpu_executor.cc:941] successful NUMA node read from SysFS had negative value (-1), but there must be at least one NUMA node, so returning NUMA node zero\n",
      "2022-11-28 06:55:35.004700: I tensorflow/core/common_runtime/gpu/gpu_device.cc:1862] Adding visible gpu devices: 0, 1\n",
      "2022-11-28 06:55:35.006279: I tensorflow/stream_executor/platform/default/dso_loader.cc:49] Successfully opened dynamic library libcudart.so.11.0\n",
      "2022-11-28 06:55:37.301426: I tensorflow/core/common_runtime/gpu/gpu_device.cc:1261] Device interconnect StreamExecutor with strength 1 edge matrix:\n",
      "2022-11-28 06:55:37.301494: I tensorflow/core/common_runtime/gpu/gpu_device.cc:1267]      0 1 \n",
      "2022-11-28 06:55:37.301507: I tensorflow/core/common_runtime/gpu/gpu_device.cc:1280] 0:   N N \n",
      "2022-11-28 06:55:37.301516: I tensorflow/core/common_runtime/gpu/gpu_device.cc:1280] 1:   N N \n",
      "2022-11-28 06:55:37.305082: I tensorflow/stream_executor/cuda/cuda_gpu_executor.cc:941] successful NUMA node read from SysFS had negative value (-1), but there must be at least one NUMA node, so returning NUMA node zero\n",
      "2022-11-28 06:55:37.306007: I tensorflow/stream_executor/cuda/cuda_gpu_executor.cc:941] successful NUMA node read from SysFS had negative value (-1), but there must be at least one NUMA node, so returning NUMA node zero\n",
      "2022-11-28 06:55:37.306832: I tensorflow/stream_executor/cuda/cuda_gpu_executor.cc:941] successful NUMA node read from SysFS had negative value (-1), but there must be at least one NUMA node, so returning NUMA node zero\n",
      "2022-11-28 06:55:37.307726: I tensorflow/stream_executor/cuda/cuda_gpu_executor.cc:941] successful NUMA node read from SysFS had negative value (-1), but there must be at least one NUMA node, so returning NUMA node zero\n",
      "2022-11-28 06:55:37.308458: I tensorflow/core/common_runtime/gpu/gpu_device.cc:1406] Created TensorFlow device (/job:localhost/replica:0/task:0/device:GPU:0 with 13970 MB memory) -> physical GPU (device: 0, name: Tesla T4, pci bus id: 0000:00:04.0, compute capability: 7.5)\n",
      "2022-11-28 06:55:37.313347: I tensorflow/stream_executor/cuda/cuda_gpu_executor.cc:941] successful NUMA node read from SysFS had negative value (-1), but there must be at least one NUMA node, so returning NUMA node zero\n",
      "2022-11-28 06:55:37.314169: I tensorflow/stream_executor/cuda/cuda_gpu_executor.cc:941] successful NUMA node read from SysFS had negative value (-1), but there must be at least one NUMA node, so returning NUMA node zero\n",
      "2022-11-28 06:55:37.314910: I tensorflow/core/common_runtime/gpu/gpu_device.cc:1406] Created TensorFlow device (/job:localhost/replica:0/task:0/device:GPU:1 with 13970 MB memory) -> physical GPU (device: 1, name: Tesla T4, pci bus id: 0000:00:05.0, compute capability: 7.5)\n"
     ]
    },
    {
     "name": "stdout",
     "output_type": "stream",
     "text": [
      "Downloading data from https://storage.googleapis.com/tensorflow/keras-applications/vgg19/vgg19_weights_tf_dim_ordering_tf_kernels_notop.h5\n",
      "80142336/80134624 [==============================] - 0s 0us/step\n"
     ]
    }
   ],
   "source": [
    "# Initialize the model in sequential\n",
    "model = Sequential()\n",
    "\n",
    "# Transfer Learning Model VGG19\n",
    "vgg19 = VGG19(input_shape=(224,224,3), \n",
    "                         include_top=False,\n",
    "                         weights=\"imagenet\")\n",
    "\n",
    "# make pre trained model into non trainable bcoz its takes much time\n",
    "for layer in vgg19.layers:\n",
    "    layer.trainable = False\n",
    "\n",
    "# add vgg19 model into our sequence model\n",
    "model.add(vgg19)\n",
    "\n",
    "# flatten the model\n",
    "model.add(Flatten())\n",
    "\n",
    "# Adding dense layers\n",
    "model.add(Dense(128, activation=\"relu\", kernel_initializer=\"he_uniform\"))\n",
    "\n",
    "# Adding output layers\n",
    "model.add(Dense(2, activation='sigmoid', kernel_initializer=\"glorot_uniform\"))\n",
    "\n",
    "# Finaly compile the model...\n",
    "model.compile(optimizer=tf.keras.optimizers.Adam(),\n",
    "              loss='categorical_crossentropy',\n",
    "              metrics=['accuracy'])\n"
   ]
  },
  {
   "cell_type": "code",
   "execution_count": 5,
   "id": "d122bdd8",
   "metadata": {
    "execution": {
     "iopub.execute_input": "2022-11-28T06:55:38.657188Z",
     "iopub.status.busy": "2022-11-28T06:55:38.656214Z",
     "iopub.status.idle": "2022-11-28T06:55:38.665301Z",
     "shell.execute_reply": "2022-11-28T06:55:38.664585Z",
     "shell.execute_reply.started": "2022-11-28T06:38:58.728748Z"
    },
    "papermill": {
     "duration": 0.024289,
     "end_time": "2022-11-28T06:55:38.665498",
     "exception": false,
     "start_time": "2022-11-28T06:55:38.641209",
     "status": "completed"
    },
    "tags": []
   },
   "outputs": [
    {
     "name": "stdout",
     "output_type": "stream",
     "text": [
      "Model: \"sequential\"\n",
      "_________________________________________________________________\n",
      "Layer (type)                 Output Shape              Param #   \n",
      "=================================================================\n",
      "vgg19 (Functional)           (None, 7, 7, 512)         20024384  \n",
      "_________________________________________________________________\n",
      "flatten (Flatten)            (None, 25088)             0         \n",
      "_________________________________________________________________\n",
      "dense (Dense)                (None, 128)               3211392   \n",
      "_________________________________________________________________\n",
      "dense_1 (Dense)              (None, 2)                 258       \n",
      "=================================================================\n",
      "Total params: 23,236,034\n",
      "Trainable params: 3,211,650\n",
      "Non-trainable params: 20,024,384\n",
      "_________________________________________________________________\n"
     ]
    }
   ],
   "source": [
    "# summary of the model\n",
    "model.summary()"
   ]
  },
  {
   "cell_type": "code",
   "execution_count": 6,
   "id": "3a06ab67",
   "metadata": {
    "execution": {
     "iopub.execute_input": "2022-11-28T06:55:38.695079Z",
     "iopub.status.busy": "2022-11-28T06:55:38.694328Z",
     "iopub.status.idle": "2022-11-28T07:11:31.620393Z",
     "shell.execute_reply": "2022-11-28T07:11:31.619410Z",
     "shell.execute_reply.started": "2022-11-28T06:39:02.922523Z"
    },
    "papermill": {
     "duration": 952.94204,
     "end_time": "2022-11-28T07:11:31.620570",
     "exception": false,
     "start_time": "2022-11-28T06:55:38.678530",
     "status": "completed"
    },
    "tags": []
   },
   "outputs": [
    {
     "name": "stderr",
     "output_type": "stream",
     "text": [
      "2022-11-28 06:55:42.416865: I tensorflow/compiler/mlir/mlir_graph_optimization_pass.cc:116] None of the MLIR optimization passes are enabled (registered 2)\n",
      "2022-11-28 06:55:42.422519: I tensorflow/core/platform/profile_utils/cpu_utils.cc:112] CPU Frequency: 2000200000 Hz\n"
     ]
    },
    {
     "name": "stdout",
     "output_type": "stream",
     "text": [
      "Epoch 1/5\n"
     ]
    },
    {
     "name": "stderr",
     "output_type": "stream",
     "text": [
      "2022-11-28 06:55:43.189221: I tensorflow/stream_executor/platform/default/dso_loader.cc:49] Successfully opened dynamic library libcublas.so.11\n",
      "2022-11-28 06:55:44.843377: I tensorflow/stream_executor/platform/default/dso_loader.cc:49] Successfully opened dynamic library libcublasLt.so.11\n",
      "2022-11-28 06:55:47.760011: I tensorflow/stream_executor/platform/default/dso_loader.cc:49] Successfully opened dynamic library libcudnn.so.8\n"
     ]
    },
    {
     "name": "stdout",
     "output_type": "stream",
     "text": [
      "50/50 [==============================] - 255s 5s/step - loss: 2.1336 - accuracy: 0.6872 - val_loss: 0.1983 - val_accuracy: 0.9075\n",
      "Epoch 2/5\n",
      "50/50 [==============================] - 174s 3s/step - loss: 0.1462 - accuracy: 0.9469 - val_loss: 0.1473 - val_accuracy: 0.9413\n",
      "Epoch 3/5\n",
      "50/50 [==============================] - 173s 3s/step - loss: 0.1099 - accuracy: 0.9602 - val_loss: 0.0994 - val_accuracy: 0.9688\n",
      "Epoch 4/5\n",
      "50/50 [==============================] - 174s 3s/step - loss: 0.0985 - accuracy: 0.9644 - val_loss: 0.1156 - val_accuracy: 0.9538\n",
      "Epoch 5/5\n",
      "50/50 [==============================] - 173s 3s/step - loss: 0.0915 - accuracy: 0.9670 - val_loss: 0.1061 - val_accuracy: 0.9538\n"
     ]
    }
   ],
   "source": [
    "Model = model.fit(Train_data, validation_data=(Validation_data), epochs=5)"
   ]
  },
  {
   "cell_type": "code",
   "execution_count": 7,
   "id": "5e320572",
   "metadata": {
    "execution": {
     "iopub.execute_input": "2022-11-28T07:11:31.845654Z",
     "iopub.status.busy": "2022-11-28T07:11:31.840061Z",
     "iopub.status.idle": "2022-11-28T07:11:32.268032Z",
     "shell.execute_reply": "2022-11-28T07:11:32.269174Z",
     "shell.execute_reply.started": "2022-11-28T06:53:30.310611Z"
    },
    "papermill": {
     "duration": 0.555299,
     "end_time": "2022-11-28T07:11:32.269413",
     "exception": false,
     "start_time": "2022-11-28T07:11:31.714114",
     "status": "completed"
    },
    "tags": []
   },
   "outputs": [
    {
     "data": {
      "image/png": "[encoded data removed]",
      "text/plain": [
       "<Figure size 864x432 with 1 Axes>"
      ]
     },
     "metadata": {
      "needs_background": "light"
     },
     "output_type": "display_data"
    }
   ],
   "source": [
    "import matplotlib.pyplot as plt\n",
    "\n",
    "# accuracy of our model\n",
    "plt.figure(figsize=(12, 6))\n",
    "plt.plot(Model.history[\"accuracy\"])\n",
    "plt.plot(Model.history[\"val_accuracy\"])\n",
    "plt.xlabel(\"Epochs\")\n",
    "plt.ylabel(\"Accuracy\")\n",
    "plt.title(\"ACCURACY OF MODEL\")\n",
    "plt.legend(['training_accuracy', 'validation_accuracy'])\n",
    "plt.show()"
   ]
  },
  {
   "cell_type": "code",
   "execution_count": 8,
   "id": "653d2b78",
   "metadata": {
    "execution": {
     "iopub.execute_input": "2022-11-28T07:11:32.545213Z",
     "iopub.status.busy": "2022-11-28T07:11:32.544397Z",
     "iopub.status.idle": "2022-11-28T07:11:32.871192Z",
     "shell.execute_reply": "2022-11-28T07:11:32.872522Z",
     "shell.execute_reply.started": "2022-11-28T06:53:37.045927Z"
    },
    "papermill": {
     "duration": 0.477347,
     "end_time": "2022-11-28T07:11:32.872762",
     "exception": false,
     "start_time": "2022-11-28T07:11:32.395415",
     "status": "completed"
    },
    "tags": []
   },
   "outputs": [
    {
     "data": {
      "image/png": "[encoded data removed]",
      "text/plain": [
       "<Figure size 864x432 with 1 Axes>"
      ]
     },
     "metadata": {
      "needs_background": "light"
     },
     "output_type": "display_data"
    }
   ],
   "source": [
    "# loss of our model\n",
    "plt.figure(figsize=(12, 6))\n",
    "plt.plot(Model.history[\"loss\"])\n",
    "plt.plot(Model.history[\"val_loss\"])\n",
    "plt.xlabel(\"Epochs\")\n",
    "plt.ylabel(\"Loss\")\n",
    "plt.title(\"LOSS OF MODEL\")\n",
    "plt.legend(['training_loss', 'validation_loss'])\n",
    "plt.show()"
   ]
  },
  {
   "cell_type": "code",
   "execution_count": 9,
   "id": "0895fea5",
   "metadata": {
    "execution": {
     "iopub.execute_input": "2022-11-28T07:11:33.173202Z",
     "iopub.status.busy": "2022-11-28T07:11:33.169522Z",
     "iopub.status.idle": "2022-11-28T07:11:33.778602Z",
     "shell.execute_reply": "2022-11-28T07:11:33.779911Z",
     "shell.execute_reply.started": "2022-11-28T06:53:48.488392Z"
    },
    "papermill": {
     "duration": 0.781746,
     "end_time": "2022-11-28T07:11:33.780136",
     "exception": false,
     "start_time": "2022-11-28T07:11:32.998390",
     "status": "completed"
    },
    "tags": []
   },
   "outputs": [],
   "source": [
    "model.save(\"anudari-mask-nomask-v2.h5\")"
   ]
  }
 ],
 "metadata": {
  "kernelspec": {
   "display_name": "Python 3",
   "language": "python",
   "name": "python3"
  },
  "language_info": {
   "codemirror_mode": {
    "name": "ipython",
    "version": 3
   },
   "file_extension": ".py",
   "mimetype": "text/x-python",
   "name": "python",
   "nbconvert_exporter": "python",
   "pygments_lexer": "ipython3",
   "version": "3.7.10"
  },
  "papermill": {
   "default_parameters": {},
   "duration": 980.994488,
   "end_time": "2022-11-28T07:11:37.489020",
   "environment_variables": {},
   "exception": null,
   "input_path": "__notebook__.ipynb",
   "output_path": "__notebook__.ipynb",
   "parameters": {},
   "start_time": "2022-11-28T06:55:16.494532",
   "version": "2.3.3"
  }
 },
 "nbformat": 4,
 "nbformat_minor": 5
}
