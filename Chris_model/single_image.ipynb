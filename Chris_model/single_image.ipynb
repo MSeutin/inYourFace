{
 "cells": [
  {
   "cell_type": "code",
   "execution_count": 1,
   "metadata": {},
   "outputs": [
    {
     "data": {
      "text/plain": [
       "-1"
      ]
     },
     "execution_count": 1,
     "metadata": {},
     "output_type": "execute_result"
    }
   ],
   "source": [
    "import face_recognition\n",
    "import numpy as np\n",
    "import os\n",
    "import cv2\n",
    "\n",
    "#LABELED_FACES_DIR = \"../IN_YOUR_FACE_DATASET/UNMASKED_CELEBRITIES/\"\n",
    "LABELED_FACES_DIR = \"../Dataset/Training/Angelina Jolie/\"\n",
    "UNLABELED_FACES_DIR = \"../Dataset/Validation\"\n",
    "TEST_DIR = \"../Dataset/Testing/\"\n",
    "TOLERANCE = 0.4\n",
    "FRAME_THICKNESS = 2\n",
    "FONT_THICKNESS = 2\n",
    "\n",
    "known_faces = []\n",
    "known_names = []\n",
    "\n",
    "image = face_recognition.load_image_file(\"../IN_YOUR_FACE_DATASET/UNMASKED_CELEBRITIES/Angelina Jolie/Angelina_Jolie_000.jpg\")\n",
    "encoding = face_recognition.face_encodings(image)\n",
    "\n",
    "print(encoding)\n",
    "image = cv2.cvtColor(image, cv2.COLOR_RGB2BGR)\n",
    "\n",
    "cv2.imshow('image',image)\n",
    "cv2.waitKey(1000)\n",
    "\n",
    "# for filename in os.listdir(f\"{LABELED_FACES_DIR}\"):\n",
    "#     print(filename)\n",
    "#     image = face_recognition.load_image_file(f\"{LABELED_FACES_DIR}/{filename}\")\n",
    "#     encoding = face_recognition.face_encodings(image)[0]\n",
    "\n",
    "\n",
    "#     known_faces.append(np.asarray(encoding))\n",
    "#     known_names.append(filename)\n",
    "\n",
    "# known_faces = np.mean(known_faces, axis = 0)\n",
    "# print(known_faces)\n",
    "\n",
    "\n",
    "\n",
    "\n",
    "\n",
    "\n",
    "\n",
    "\n",
    "\n"
   ]
  }
 ],
 "metadata": {
  "kernelspec": {
   "display_name": "Python 3.9.13 ('tflabs')",
   "language": "python",
   "name": "python3"
  },
  "language_info": {
   "codemirror_mode": {
    "name": "ipython",
    "version": 3
   },
   "file_extension": ".py",
   "mimetype": "text/x-python",
   "name": "python",
   "nbconvert_exporter": "python",
   "pygments_lexer": "ipython3",
   "version": "3.9.13"
  },
  "orig_nbformat": 4,
  "vscode": {
   "interpreter": {
    "hash": "dbd96daefc5ee54ba6257df18db85533615538f8325a5ea7aefbb8022f7048fc"
   }
  }
 },
 "nbformat": 4,
 "nbformat_minor": 2
}
