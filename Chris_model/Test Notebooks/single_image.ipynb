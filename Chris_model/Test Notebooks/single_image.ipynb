{
 "cells": [
  {
   "cell_type": "code",
   "execution_count": 1,
   "metadata": {},
   "outputs": [
    {
     "name": "stdout",
     "output_type": "stream",
     "text": [
      "['Angelina_Jolie', 'Angelina_Jolie', 'Angelina_Jolie', 'Angelina_Jolie', 'Angelina_Jolie', 'Angelina_Jolie', 'Angelina_Jolie', 'Angelina_Jolie', 'Angelina_Jolie', 'Angelina_Jolie', 'Angelina_Jolie', 'Angelina_Jolie', 'Angelina_Jolie', 'Angelina_Jolie', 'Angelina_Jolie', 'Angelina_Jolie', 'Angelina_Jolie', 'Angelina_Jolie', 'Angelina_Jolie', 'Angelina_Jolie', 'Brad_Pitt', 'Brad_Pitt', 'Brad_Pitt', 'Brad_Pitt', 'Brad_Pitt', 'Brad_Pitt', 'Brad_Pitt', 'Brad_Pitt', 'Brad_Pitt', 'Brad_Pitt', 'Brad_Pitt', 'Brad_Pitt', 'Brad_Pitt', 'Brad_Pitt', 'Brad_Pitt', 'Brad_Pitt', 'Brad_Pitt', 'Brad_Pitt', 'Brad_Pitt', 'Brad_Pitt', 'Denzel_Washington', 'Denzel_Washington', 'Denzel_Washington', 'Denzel_Washington', 'Denzel_Washington', 'Denzel_Washington', 'Denzel_Washington', 'Denzel_Washington', 'Denzel_Washington', 'Denzel_Washington', 'Denzel_Washington', 'Denzel_Washington', 'Denzel_Washington', 'Denzel_Washington', 'Denzel_Washington', 'Denzel_Washington', 'Denzel_Washington', 'Denzel_Washington', 'Denzel_Washington', 'Denzel_Washington', 'Hugh_Jackman', 'Hugh_Jackman', 'Hugh_Jackman', 'Hugh_Jackman', 'Hugh_Jackman', 'Hugh_Jackman', 'Hugh_Jackman', 'Hugh_Jackman', 'Hugh_Jackman', 'Hugh_Jackman', 'Hugh_Jackman', 'Hugh_Jackman', 'Hugh_Jackman', 'Hugh_Jackman', 'Hugh_Jackman', 'Hugh_Jackman', 'Hugh_Jackman', 'Hugh_Jackman', 'Hugh_Jackman', 'Jennifer_Lawrence', 'Jennifer_Lawrence', 'Jennifer_Lawrence', 'Jennifer_Lawrence', 'Jennifer_Lawrence', 'Jennifer_Lawrence', 'Jennifer_Lawrence', 'Jennifer_Lawrence', 'Jennifer_Lawrence', 'Jennifer_Lawrence', 'Jennifer_Lawrence', 'Jennifer_Lawrence', 'Jennifer_Lawrence', 'Jennifer_Lawrence', 'Jennifer_Lawrence', 'Jennifer_Lawrence', 'Jennifer_Lawrence', 'Jennifer_Lawrence', 'Jennifer_Lawrence', 'Jennifer_Lawrence', 'Johnny_Depp', 'Johnny_Depp', 'Johnny_Depp', 'Johnny_Depp', 'Johnny_Depp', 'Johnny_Depp', 'Johnny_Depp', 'Johnny_Depp', 'Johnny_Depp', 'Johnny_Depp', 'Johnny_Depp', 'Johnny_Depp', 'Johnny_Depp', 'Johnny_Depp', 'Johnny_Depp', 'Johnny_Depp', 'Johnny_Depp', 'Johnny_Depp', 'Johnny_Depp', 'Johnny_Depp', 'Kate_Winslet', 'Kate_Winslet', 'Kate_Winslet', 'Kate_Winslet', 'Kate_Winslet', 'Kate_Winslet', 'Kate_Winslet', 'Kate_Winslet', 'Kate_Winslet', 'Kate_Winslet', 'Kate_Winslet', 'Kate_Winslet', 'Kate_Winslet', 'Kate_Winslet', 'Kate_Winslet', 'Kate_Winslet', 'Kate_Winslet', 'Kate_Winslet', 'Kate_Winslet', 'Kate_Winslet', 'Leonardo_DiCaprio', 'Leonardo_DiCaprio', 'Leonardo_DiCaprio', 'Leonardo_DiCaprio', 'Leonardo_DiCaprio', 'Leonardo_DiCaprio', 'Leonardo_DiCaprio', 'Leonardo_DiCaprio', 'Leonardo_DiCaprio', 'Leonardo_DiCaprio', 'Leonardo_DiCaprio', 'Leonardo_DiCaprio', 'Leonardo_DiCaprio', 'Leonardo_DiCaprio', 'Leonardo_DiCaprio', 'Leonardo_DiCaprio', 'Leonardo_DiCaprio', 'Leonardo_DiCaprio', 'Leonardo_DiCaprio', 'Leonardo_DiCaprio', 'Megan_Fox', 'Megan_Fox', 'Megan_Fox', 'Megan_Fox', 'Megan_Fox', 'Megan_Fox', 'Megan_Fox', 'Megan_Fox', 'Megan_Fox', 'Megan_Fox', 'Megan_Fox', 'Megan_Fox', 'Megan_Fox', 'Megan_Fox', 'Megan_Fox', 'Megan_Fox', 'Megan_Fox', 'Megan_Fox', 'Megan_Fox', 'Megan_Fox', 'Natalie_Portman', 'Natalie_Portman', 'Natalie_Portman', 'Natalie_Portman', 'Natalie_Portman', 'Natalie_Portman', 'Natalie_Portman', 'Natalie_Portman', 'Natalie_Portman', 'Natalie_Portman', 'Natalie_Portman', 'Natalie_Portman', 'Natalie_Portman', 'Natalie_Portman', 'Natalie_Portman', 'Natalie_Portman', 'Natalie_Portman', 'Natalie_Portman', 'Natalie_Portman', 'Natalie_Portman', 'Nicole_Kidman', 'Nicole_Kidman', 'Nicole_Kidman', 'Nicole_Kidman', 'Nicole_Kidman', 'Nicole_Kidman', 'Nicole_Kidman', 'Nicole_Kidman', 'Nicole_Kidman', 'Nicole_Kidman', 'Nicole_Kidman', 'Nicole_Kidman', 'Nicole_Kidman', 'Nicole_Kidman', 'Nicole_Kidman', 'Nicole_Kidman', 'Nicole_Kidman', 'Nicole_Kidman', 'Nicole_Kidman', 'Nicole_Kidman', 'Robert_Downey_Jr', 'Robert_Downey_Jr', 'Robert_Downey_Jr', 'Robert_Downey_Jr', 'Robert_Downey_Jr', 'Robert_Downey_Jr', 'Robert_Downey_Jr', 'Robert_Downey_Jr', 'Robert_Downey_Jr', 'Robert_Downey_Jr', 'Robert_Downey_Jr', 'Robert_Downey_Jr', 'Robert_Downey_Jr', 'Robert_Downey_Jr', 'Robert_Downey_Jr', 'Robert_Downey_Jr', 'Robert_Downey_Jr', 'Robert_Downey_Jr', 'Robert_Downey_Jr', 'Robert_Downey_Jr', 'Sandra_Bullock', 'Sandra_Bullock', 'Sandra_Bullock', 'Sandra_Bullock', 'Sandra_Bullock', 'Sandra_Bullock', 'Sandra_Bullock', 'Sandra_Bullock', 'Sandra_Bullock', 'Sandra_Bullock', 'Sandra_Bullock', 'Sandra_Bullock', 'Sandra_Bullock', 'Sandra_Bullock', 'Sandra_Bullock', 'Sandra_Bullock', 'Sandra_Bullock', 'Sandra_Bullock', 'Sandra_Bullock', 'Sandra_Bullock', 'Scarlett_Johansson', 'Scarlett_Johansson', 'Scarlett_Johansson', 'Scarlett_Johansson', 'Scarlett_Johansson', 'Scarlett_Johansson', 'Scarlett_Johansson', 'Scarlett_Johansson', 'Scarlett_Johansson', 'Scarlett_Johansson', 'Scarlett_Johansson', 'Scarlett_Johansson', 'Scarlett_Johansson', 'Scarlett_Johansson', 'Scarlett_Johansson', 'Scarlett_Johansson', 'Scarlett_Johansson', 'Scarlett_Johansson', 'Scarlett_Johansson', 'Scarlett_Johansson', 'Tom_Cruise', 'Tom_Cruise', 'Tom_Cruise', 'Tom_Cruise', 'Tom_Cruise', 'Tom_Cruise', 'Tom_Cruise', 'Tom_Cruise', 'Tom_Cruise', 'Tom_Cruise', 'Tom_Cruise', 'Tom_Cruise', 'Tom_Cruise', 'Tom_Cruise', 'Tom_Cruise', 'Tom_Cruise', 'Tom_Cruise', 'Tom_Cruise', 'Tom_Cruise', 'Tom_Cruise', 'Tom_Hanks', 'Tom_Hanks', 'Tom_Hanks', 'Tom_Hanks', 'Tom_Hanks', 'Tom_Hanks', 'Tom_Hanks', 'Tom_Hanks', 'Tom_Hanks', 'Tom_Hanks', 'Tom_Hanks', 'Tom_Hanks', 'Tom_Hanks', 'Tom_Hanks', 'Tom_Hanks', 'Tom_Hanks', 'Tom_Hanks', 'Tom_Hanks', 'Tom_Hanks', 'Will_Smith', 'Will_Smith', 'Will_Smith', 'Will_Smith', 'Will_Smith', 'Will_Smith', 'Will_Smith', 'Will_Smith', 'Will_Smith', 'Will_Smith', 'Will_Smith', 'Will_Smith', 'Will_Smith', 'Will_Smith', 'Will_Smith', 'Will_Smith', 'Will_Smith', 'Will_Smith', 'Will_Smith']\n",
      "Angelina_Jolie_021_surgical.jpg\n",
      "Brad_Pitt_008.jpg\n",
      "Match found: Brad_Pitt\n",
      "Johnny_Depp_080.jpg\n",
      "Match found: Johnny_Depp\n",
      "Kate_Winslet_014.jpg\n",
      "Match found: Kate_Winslet\n",
      "Kate_Winslet_075.jpg\n",
      "Match found: Kate_Winslet\n",
      "Megan_Fox_069.jpg\n",
      "Match found: Megan_Fox\n",
      "Megan_Fox_075.jpg\n",
      "Match found: Megan_Fox\n",
      "Nicole_Kidman_078.jpg\n",
      "Match found: Nicole_Kidman\n",
      "Nicole_Kidman_085.jpg\n",
      "Match found: Nicole_Kidman\n"
     ]
    }
   ],
   "source": [
    "import face_recognition\n",
    "import pickle\n",
    "import os\n",
    "import cv2\n",
    "\n",
    "LABELED_FACES_DIR = \"../Dataset/Training/\"\n",
    "UNLABELED_FACES_DIR = \"../Dataset/Validation\"\n",
    "TEST_DIR = \"../Dataset/Testing/\"\n",
    "TOLERANCE = 0.55\n",
    "FRAME_THICKNESS = 2\n",
    "FONT_THICKNESS = 1\n",
    "\n",
    "\n",
    "\n",
    "\n",
    "\n",
    "with open('known_faces.dat','rb') as f:\n",
    "    known_faces = pickle.load(f)\n",
    "\n",
    "with open('known_names.dat','rb') as f:\n",
    "    known_names = pickle.load(f)\n",
    "\n",
    "print(known_names)\n",
    "\n",
    "\n",
    "for filename in os.listdir(UNLABELED_FACES_DIR):\n",
    "    print(filename)\n",
    "    image = face_recognition.load_image_file(f\"{UNLABELED_FACES_DIR}/{filename}\")\n",
    "    locations = face_recognition.face_locations(image, model='cnn')\n",
    "    encodings = face_recognition.face_encodings(image, locations)\n",
    "    image = cv2.cvtColor(image, cv2.COLOR_RGB2BGR)\n",
    "\n",
    "    for face_encoding, face_location in zip(encodings, locations):\n",
    "        results = face_recognition.compare_faces(known_faces, face_encoding, TOLERANCE)\n",
    "        match = None\n",
    "        if True in results:\n",
    "            match = known_names[results.index(True)]\n",
    "            print(f\"Match found: {match}\")\n",
    "\n",
    "            #A list of tuples of found face locations in css (top, right, bottom, left) order\n",
    "            top_left = (face_location[3]-10, face_location[0]-50)\n",
    "            bottom_right = (face_location[1]+10, face_location[2]+50)\n",
    "            color = [0, 255, 0]\n",
    "            cv2.rectangle(image, top_left, bottom_right, color, FRAME_THICKNESS)\n",
    "\n",
    "            top_left = (face_location[3] - 11, face_location[2] + 50)\n",
    "            bottom_right = (face_location[1] + 11, face_location[2] + 72)\n",
    "            color = [0, 255, 0]\n",
    "            cv2.rectangle(image, top_left, bottom_right, color, cv2.FILLED)\n",
    "\n",
    "            cv2.putText(image, match, (face_location[3], face_location[2]+65), cv2.FONT_HERSHEY_TRIPLEX, 0.5, (0,0,0), FONT_THICKNESS)\n",
    "\n",
    "    cv2.imshow(filename, image)\n",
    "    cv2.waitKey(1000)\n",
    "\n",
    "\n",
    "\n",
    "\n",
    "\n",
    "\n",
    "\n",
    "\n",
    "\n"
   ]
  }
 ],
 "metadata": {
  "kernelspec": {
   "display_name": "Python 3.9.13 ('tflabs')",
   "language": "python",
   "name": "python3"
  },
  "language_info": {
   "codemirror_mode": {
    "name": "ipython",
    "version": 3
   },
   "file_extension": ".py",
   "mimetype": "text/x-python",
   "name": "python",
   "nbconvert_exporter": "python",
   "pygments_lexer": "ipython3",
   "version": "3.9.13"
  },
  "orig_nbformat": 4,
  "vscode": {
   "interpreter": {
    "hash": "dbd96daefc5ee54ba6257df18db85533615538f8325a5ea7aefbb8022f7048fc"
   }
  }
 },
 "nbformat": 4,
 "nbformat_minor": 2
}
