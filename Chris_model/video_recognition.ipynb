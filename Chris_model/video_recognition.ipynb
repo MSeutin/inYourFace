{
 "cells": [
  {
   "cell_type": "code",
   "execution_count": 6,
   "metadata": {},
   "outputs": [
    {
     "ename": "FileNotFoundError",
     "evalue": "[Errno 2] No such file or directory: '../IN_YOUR_FACE_DATASET/UNMASKED_CELEBRITIES//Angelina Jolie/Angelina Jolie'",
     "output_type": "error",
     "traceback": [
      "\u001b[1;31m---------------------------------------------------------------------------\u001b[0m",
      "\u001b[1;31mFileNotFoundError\u001b[0m                         Traceback (most recent call last)",
      "Cell \u001b[1;32mIn [6], line 17\u001b[0m\n\u001b[0;32m     15\u001b[0m \u001b[39mfor\u001b[39;00m name \u001b[39min\u001b[39;00m os\u001b[39m.\u001b[39mlistdir(LABELED_FACES_DIR):\n\u001b[0;32m     16\u001b[0m     \u001b[39mfor\u001b[39;00m filename \u001b[39min\u001b[39;00m os\u001b[39m.\u001b[39mlistdir(\u001b[39mf\u001b[39m\u001b[39m\"\u001b[39m\u001b[39m{\u001b[39;00mLABELED_FACES_DIR\u001b[39m}\u001b[39;00m\u001b[39m\"\u001b[39m):\n\u001b[1;32m---> 17\u001b[0m         image \u001b[39m=\u001b[39m face_recognition\u001b[39m.\u001b[39;49mload_image_file(\u001b[39mf\u001b[39;49m\u001b[39m\"\u001b[39;49m\u001b[39m{\u001b[39;49;00mLABELED_FACES_DIR\u001b[39m}\u001b[39;49;00m\u001b[39m/\u001b[39;49m\u001b[39m{\u001b[39;49;00mfilename\u001b[39m}\u001b[39;49;00m\u001b[39m/\u001b[39;49m\u001b[39m{\u001b[39;49;00mname\u001b[39m}\u001b[39;49;00m\u001b[39m\"\u001b[39;49m)\n\u001b[0;32m     18\u001b[0m         encoding \u001b[39m=\u001b[39m face_recognition\u001b[39m.\u001b[39mface_encodings(image)[\u001b[39m0\u001b[39m]\n\u001b[0;32m     19\u001b[0m         known_faces\u001b[39m.\u001b[39mappend(encoding)\n",
      "File \u001b[1;32mc:\\Users\\chris\\miniconda3\\envs\\tflabs\\lib\\site-packages\\face_recognition\\api.py:86\u001b[0m, in \u001b[0;36mload_image_file\u001b[1;34m(file, mode)\u001b[0m\n\u001b[0;32m     78\u001b[0m \u001b[39mdef\u001b[39;00m \u001b[39mload_image_file\u001b[39m(file, mode\u001b[39m=\u001b[39m\u001b[39m'\u001b[39m\u001b[39mRGB\u001b[39m\u001b[39m'\u001b[39m):\n\u001b[0;32m     79\u001b[0m     \u001b[39m\"\"\"\u001b[39;00m\n\u001b[0;32m     80\u001b[0m \u001b[39m    Loads an image file (.jpg, .png, etc) into a numpy array\u001b[39;00m\n\u001b[0;32m     81\u001b[0m \n\u001b[1;32m   (...)\u001b[0m\n\u001b[0;32m     84\u001b[0m \u001b[39m    :return: image contents as numpy array\u001b[39;00m\n\u001b[0;32m     85\u001b[0m \u001b[39m    \"\"\"\u001b[39;00m\n\u001b[1;32m---> 86\u001b[0m     im \u001b[39m=\u001b[39m PIL\u001b[39m.\u001b[39;49mImage\u001b[39m.\u001b[39;49mopen(file)\n\u001b[0;32m     87\u001b[0m     \u001b[39mif\u001b[39;00m mode:\n\u001b[0;32m     88\u001b[0m         im \u001b[39m=\u001b[39m im\u001b[39m.\u001b[39mconvert(mode)\n",
      "File \u001b[1;32mc:\\Users\\chris\\miniconda3\\envs\\tflabs\\lib\\site-packages\\PIL\\Image.py:3131\u001b[0m, in \u001b[0;36mopen\u001b[1;34m(fp, mode, formats)\u001b[0m\n\u001b[0;32m   3128\u001b[0m     filename \u001b[39m=\u001b[39m fp\n\u001b[0;32m   3130\u001b[0m \u001b[39mif\u001b[39;00m filename:\n\u001b[1;32m-> 3131\u001b[0m     fp \u001b[39m=\u001b[39m builtins\u001b[39m.\u001b[39;49mopen(filename, \u001b[39m\"\u001b[39;49m\u001b[39mrb\u001b[39;49m\u001b[39m\"\u001b[39;49m)\n\u001b[0;32m   3132\u001b[0m     exclusive_fp \u001b[39m=\u001b[39m \u001b[39mTrue\u001b[39;00m\n\u001b[0;32m   3134\u001b[0m \u001b[39mtry\u001b[39;00m:\n",
      "\u001b[1;31mFileNotFoundError\u001b[0m: [Errno 2] No such file or directory: '../IN_YOUR_FACE_DATASET/UNMASKED_CELEBRITIES//Angelina Jolie/Angelina Jolie'"
     ]
    }
   ],
   "source": [
    "import face_recognition\n",
    "import os\n",
    "import cv2\n",
    "\n",
    "LABELED_FACES_DIR = \"../IN_YOUR_FACE_DATASET/UNMASKED_CELEBRITIES/\"\n",
    "UNLABELED_FACES_DIR = \"../Dataset/Validation\"\n",
    "TEST_DIR = \"../Dataset/Testing/\"\n",
    "TOLERANCE = 0.4\n",
    "FRAME_THICKNESS = 2\n",
    "FONT_THICKNESS = 2\n",
    "\n",
    "known_faces = []\n",
    "known_names = []\n",
    "\n",
    "for name in os.listdir(LABELED_FACES_DIR):\n",
    "    for filename in os.listdir(f\"{LABELED_FACES_DIR}/{name}\"):\n",
    "        image = face_recognition.load_image_file(f\"{LABELED_FACES_DIR}/{filename}/{name}\")\n",
    "        encoding = face_recognition.face_encodings(image)[0]\n",
    "        known_faces.append(encoding)\n",
    "        known_names.append(filename)\n",
    "\n",
    "\n",
    "for filename in os.listdir(UNLABELED_FACES_DIR):\n",
    "    print(filename)\n",
    "    image = face_recognition.load_image_file(f\"{UNLABELED_FACES_DIR}/{filename}\")\n",
    "    locations = face_recognition.face_locations(image, model='cnn')\n",
    "    encodings = face_recognition.face_encodings(image, locations)\n",
    "    image = cv2.cvtColor(image, cv2.COLOR_RGB2BGR)\n",
    "\n",
    "    for face_encoding, face_location in zip(encodings, locations):\n",
    "        results = face_recognition.compare_faces(known_faces, face_encoding, TOLERANCE)\n",
    "        match = None\n",
    "        if True in results:\n",
    "            match = known_names[results.index(True)]\n",
    "            print(f\"Match found: {match}\")\n",
    "\n",
    "            top_left = (face_location[3], face_location[0])\n",
    "            bottom_right = (face_location[1], face_location[2])\n",
    "            color = [0, 255, 0]\n",
    "            cv2.rectangle(image, top_left, bottom_right, color, FRAME_THICKNESS)\n",
    "\n",
    "            top_left = (face_location[3], face_location[2])\n",
    "            bottom_right = (face_location[1], face_location[2] + 22)\n",
    "            color = [0, 255, 0]\n",
    "            cv2.rectangle(image, top_left, bottom_right, color, cv2.FILLED)\n",
    "            cv2.putText(image, match, (face_location[3] + 10, face_location[2]+15), cv2.FONT_HERSHEY_SIMPLEX, 0.5, (200,200,200), FONT_THICKNESS)\n",
    "\n",
    "    cv2.imshow(filename, image)\n",
    "    cv2.waitKey(1000)\n",
    "    #cv2.destroyWindow(filename)\n",
    "\n",
    "\n",
    "\n",
    "\n",
    "\n",
    "\n",
    "\n",
    "\n",
    "\n"
   ]
  }
 ],
 "metadata": {
  "kernelspec": {
   "display_name": "Python 3.9.13 ('tflabs')",
   "language": "python",
   "name": "python3"
  },
  "language_info": {
   "codemirror_mode": {
    "name": "ipython",
    "version": 3
   },
   "file_extension": ".py",
   "mimetype": "text/x-python",
   "name": "python",
   "nbconvert_exporter": "python",
   "pygments_lexer": "ipython3",
   "version": "3.9.13"
  },
  "orig_nbformat": 4,
  "vscode": {
   "interpreter": {
    "hash": "dbd96daefc5ee54ba6257df18db85533615538f8325a5ea7aefbb8022f7048fc"
   }
  }
 },
 "nbformat": 4,
 "nbformat_minor": 2
}
