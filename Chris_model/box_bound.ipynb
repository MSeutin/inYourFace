{
 "cells": [
  {
   "cell_type": "code",
   "execution_count": 1,
   "metadata": {},
   "outputs": [
    {
     "data": {
      "text/plain": [
       "-1"
      ]
     },
     "execution_count": 1,
     "metadata": {},
     "output_type": "execute_result"
    }
   ],
   "source": [
    "import face_recognition\n",
    "import pickle\n",
    "import os\n",
    "import cv2\n",
    "\n",
    "LABELED_FACES_DIR = \"../Dataset/Training/\"\n",
    "UNLABELED_FACES_DIR = \"../Dataset/Validation\"\n",
    "TEST_DIR = \"../Dataset/Testing/\"\n",
    "TOLERANCE = 0.55\n",
    "FRAME_THICKNESS = 2\n",
    "FONT_THICKNESS = 1\n",
    "\n",
    "\n",
    "\n",
    "\n",
    "image = face_recognition.load_image_file(f\"{UNLABELED_FACES_DIR}/Angelina_Jolie_021_surgical.jpg\")\n",
    "location = face_recognition.face_locations(image, model='cnn')\n",
    "encodings = face_recognition.face_encodings(image, location)\n",
    "image = cv2.cvtColor(image, cv2.COLOR_RGB2BGR)\n",
    "\n",
    "location = location[0]\n",
    "\n",
    "#A list of tuples of found face locations in css (top, right, bottom, left) order\n",
    "top_left = (location[3]-10, location[0]-50)\n",
    "bottom_right = (location[1]+10, location[2]+50)\n",
    "color = [0, 255, 0]\n",
    "cv2.rectangle(image, top_left, bottom_right, color, FRAME_THICKNESS)\n",
    "\n",
    "top_left = (location[3] - 11, location[2] + 50)\n",
    "bottom_right = (location[1] + 11, location[2] + 72)\n",
    "color = [0, 255, 0]\n",
    "cv2.rectangle(image, top_left, bottom_right, color, cv2.FILLED)\n",
    "\n",
    "#cv2.putText(image, match, (location[3], location[2]+65), cv2.FONT_HERSHEY_TRIPLEX, 0.5, (0,0,0), FONT_THICKNESS)\n",
    "\n",
    "cv2.imshow('Kate_Winslet', image)\n",
    "cv2.waitKey(1000)\n",
    "\n",
    "\n",
    "\n",
    "\n",
    "\n",
    "\n",
    "\n",
    "\n",
    "\n"
   ]
  }
 ],
 "metadata": {
  "kernelspec": {
   "display_name": "Python 3.9.13 ('tflabs')",
   "language": "python",
   "name": "python3"
  },
  "language_info": {
   "codemirror_mode": {
    "name": "ipython",
    "version": 3
   },
   "file_extension": ".py",
   "mimetype": "text/x-python",
   "name": "python",
   "nbconvert_exporter": "python",
   "pygments_lexer": "ipython3",
   "version": "3.9.13"
  },
  "orig_nbformat": 4,
  "vscode": {
   "interpreter": {
    "hash": "dbd96daefc5ee54ba6257df18db85533615538f8325a5ea7aefbb8022f7048fc"
   }
  }
 },
 "nbformat": 4,
 "nbformat_minor": 2
}
