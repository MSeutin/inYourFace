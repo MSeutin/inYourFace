{
 "cells": [
  {
   "cell_type": "code",
   "execution_count": 2,
   "metadata": {},
   "outputs": [],
   "source": [
    "import cv2\n",
    "import numpy as np\n",
    "import glob\n",
    "import tensorflow as tf\n",
    "from PIL import Image\n",
    "import os\n",
    "\n",
    "# Load weights for dnn\n",
    "network = cv2.dnn.readNetFromCaffe(\"../converging_models/MODELS/deploy.prototxt\", \"../converging_models/MODELS/res10_300x300_ssd_iter_140000_fp16.caffemodel\")\n"
   ]
  },
  {
   "cell_type": "code",
   "execution_count": null,
   "metadata": {},
   "outputs": [],
   "source": [
    "#######################\n",
    "### DNN FACE FINDER ###\n",
    "#######################\n",
    "left = 0\n",
    "right = 0\n",
    "bottom = 0\n",
    "top = 0\n",
    "\n",
    "padding = 60\n",
    "\n",
    "# Read in image\n",
    "input_image = cv2.imread(\"../NEW_DATASET/unmasked/michael/IMG_5963.JPG\")\n",
    "\n",
    "(height, width) = input_image.shape[:2]\n",
    "blob = cv2.dnn.blobFromImage(input_image, scalefactor=1.0, size=(300, 300), mean=(104.0, 117.0, 123.0))\n",
    "network.setInput(blob)\n",
    "detections = network.forward()\n",
    "\n",
    "for i in range(0, detections.shape[2]):\n",
    "    confidence = detections[0, 0, i, 2]\n",
    "    if confidence > 0.5:\n",
    "        box = detections[0, 0, i, 3:7] * np.array([width, height, width, height])\n",
    "        left = int(box[0]) - padding\n",
    "        top = int(box[1]) - padding\n",
    "        right = int(box[2]) + padding\n",
    "        bottom = int(box[3]) + padding\n",
    "\n",
    "cropped_image = input_image[top:bottom, left:right]\n",
    "cv2.imshow(\"New image\", cropped_image)\n",
    "cv2.waitKey(1)\n"
   ]
  },
  {
   "cell_type": "code",
   "execution_count": 3,
   "metadata": {},
   "outputs": [
    {
     "data": {
      "text/plain": [
       "-1"
      ]
     },
     "execution_count": 3,
     "metadata": {},
     "output_type": "execute_result"
    }
   ],
   "source": [
    "###########################\n",
    "### SHOW CROPPED FACES ###\n",
    "###########################\n",
    "\n",
    "left = 0\n",
    "right = 0\n",
    "bottom = 0\n",
    "top = 0\n",
    "\n",
    "padding = 60\n",
    "\n",
    "# Read in image\n",
    "input_image = cv2.imread(\"../NEW_DATASET/unmasked/michael/IMG_5963.JPG\")\n",
    "\n",
    "(height, width) = input_image.shape[:2]\n",
    "blob = cv2.dnn.blobFromImage(input_image, scalefactor=1.0, size=(300, 300), mean=(104.0, 117.0, 123.0))\n",
    "network.setInput(blob)\n",
    "detections = network.forward()\n",
    "\n",
    "for i in range(0, detections.shape[2]):\n",
    "    confidence = detections[0, 0, i, 2]\n",
    "    if confidence > 0.5:\n",
    "        box = detections[0, 0, i, 3:7] * np.array([width, height, width, height])\n",
    "        left = int(box[0]) - padding\n",
    "        top = int(box[1]) - padding\n",
    "        right = int(box[2]) + padding\n",
    "        bottom = int(box[3]) + padding\n",
    "\n",
    "cropped_image = input_image[top:bottom, left:right]\n",
    "cv2.imshow(\"Cropped image\", cropped_image)\n",
    "cv2.waitKey(1)\n"
   ]
  },
  {
   "cell_type": "code",
   "execution_count": 49,
   "metadata": {},
   "outputs": [],
   "source": [
    "########################################\n",
    "### CROP IMAGES FROM FOLDER AND SAVE ###\n",
    "########################################\n",
    "\n",
    "path_to_save = \"./Cropped_Dataset/unmasked/Anudari/\"\n",
    "\n",
    "numerate = 1\n",
    "\n",
    "for img in glob.glob(\"../NEW_DATASET/unmasked/anudari/*.jpg\"):\n",
    "\n",
    "    left = 0\n",
    "    right = 0\n",
    "    bottom = 0\n",
    "    top = 0\n",
    "    padding = 60\n",
    "\n",
    "    input_image = cv2.imread(img)\n",
    "\n",
    "    (height, width) = input_image.shape[:2]\n",
    "    blob = cv2.dnn.blobFromImage(input_image, scalefactor=1.0, size=(300, 300), mean=(104.0, 117.0, 123.0))\n",
    "    network.setInput(blob)\n",
    "    detections = network.forward()\n",
    "\n",
    "    for i in range(0, detections.shape[2]):\n",
    "        confidence = detections[0, 0, i, 2]\n",
    "        if confidence > 0.5:\n",
    "            box = detections[0, 0, i, 3:7] * np.array([width, height, width, height])\n",
    "            left = int(box[0]) - padding\n",
    "            top = int(box[1]) - padding\n",
    "            right = int(box[2]) + padding\n",
    "            bottom = int(box[3]) + padding\n",
    "\n",
    "    cropped_image = input_image[top:bottom, left:right]\n",
    "\n",
    "    if cropped_image.size < 1:\n",
    "        numerate = numerate + 1\n",
    "    else :\n",
    "        cv2.imwrite(os.path.join(path_to_save, 'unmasked_anudari_' + str(numerate) + '.jpg'),cropped_image)\n",
    "        numerate = numerate + 1\n"
   ]
  }
 ],
 "metadata": {
  "kernelspec": {
   "display_name": "Python 3.9.13 ('tflabs')",
   "language": "python",
   "name": "python3"
  },
  "language_info": {
   "codemirror_mode": {
    "name": "ipython",
    "version": 3
   },
   "file_extension": ".py",
   "mimetype": "text/x-python",
   "name": "python",
   "nbconvert_exporter": "python",
   "pygments_lexer": "ipython3",
   "version": "3.9.13"
  },
  "orig_nbformat": 4,
  "vscode": {
   "interpreter": {
    "hash": "dbd96daefc5ee54ba6257df18db85533615538f8325a5ea7aefbb8022f7048fc"
   }
  }
 },
 "nbformat": 4,
 "nbformat_minor": 2
}
